{
 "cells": [
  {
   "cell_type": "markdown",
   "source": [
    "# Example\n",
    "This notebook shows how to train and test optirank (and the competitor classifiers) on the given datasets."
   ],
   "metadata": {
    "collapsed": false,
    "pycharm": {
     "name": "#%% md\n"
    }
   },
   "outputs": [
    {
     "ename": "SyntaxError",
     "evalue": "invalid syntax (231225828.py, line 2)",
     "output_type": "error",
     "traceback": [
      "\u001B[0;36m  Input \u001B[0;32mIn [1]\u001B[0;36m\u001B[0m\n\u001B[0;31m    This notebook explains how to train and test optirank on the given datasets.\u001B[0m\n\u001B[0m         ^\u001B[0m\n\u001B[0;31mSyntaxError\u001B[0m\u001B[0;31m:\u001B[0m invalid syntax\n"
     ]
    }
   ],
   "execution_count": 1
  },
  {
   "cell_type": "code",
   "execution_count": 1,
   "outputs": [],
   "source": [
    "from example_funs import run\n",
    "import logging\n",
    "logger = logging.getLogger()\n",
    "logger.setLevel(level=logging.WARNING)"
   ],
   "metadata": {
    "collapsed": false,
    "pycharm": {
     "name": "#%%\n"
    }
   }
  },
  {
   "cell_type": "markdown",
   "source": [
    "Let us compare optirank with competing classifiers on the dataset Baron_Murano, for the binary classification task \"acinar\" VS rest"
   ],
   "metadata": {
    "collapsed": false,
    "pycharm": {
     "name": "#%% md\n"
    }
   }
  },
  {
   "cell_type": "markdown",
   "source": [
    "As an example, we test all competing classifiers with the first parameter of their corresponding parameter grid. We do the comparison with the first split of the dataset."
   ],
   "metadata": {
    "collapsed": false,
    "pycharm": {
     "name": "#%% md\n"
    }
   }
  },
  {
   "cell_type": "code",
   "execution_count": 2,
   "outputs": [],
   "source": [
    "dataset_name = \"Baron_Murano\"\n",
    "class_of_interest = \"acinar\"\n",
    "index_param = 0\n",
    "CV_index = 0"
   ],
   "metadata": {
    "collapsed": false,
    "pycharm": {
     "name": "#%%\n"
    }
   }
  },
  {
   "cell_type": "markdown",
   "source": [
    "This command serves to generate the pre-processed data. Otherwise, you can download the processed data from the link provided in the README."
   ],
   "metadata": {
    "collapsed": false,
    "pycharm": {
     "name": "#%% md\n"
    }
   }
  },
  {
   "cell_type": "code",
   "execution_count": 3,
   "outputs": [],
   "source": [
    "# from tests_real_data.preprocess_data_single_cell_net import preprocess_data\n",
    "#\n",
    "# preprocess_data(CV_index, dataset_name, class_of_interest)"
   ],
   "metadata": {
    "collapsed": false,
    "pycharm": {
     "name": "#%%\n"
    }
   }
  },
  {
   "cell_type": "code",
   "execution_count": null,
   "outputs": [
    {
     "name": "stdout",
     "output_type": "stream",
     "text": [
      "Classifier: optirank\n",
      "balanced accuracy on test-set: 0.89\n",
      "\n",
      "\n",
      "Classifier: logistic_regression_based_on_rankings\n",
      "balanced accuracy on test-set: 0.55\n",
      "\n",
      "\n",
      "Classifier: logistic_regression\n",
      "balanced accuracy on test-set: 0.50\n",
      "\n",
      "\n",
      "Classifier: random_forest\n",
      "balanced accuracy on test-set: 0.50\n",
      "\n",
      "\n",
      "Classifier: single_cell_net\n",
      "HVG\n",
      "Matrix normalized\n"
     ]
    }
   ],
   "source": [
    "competitor_classifiers = [\"optirank\", \"logistic_regression_based_on_rankings\", \"logistic_regression\", \"random_forest\", \"single_cell_net\"]\n",
    "\n",
    "for classifier in competitor_classifiers:\n",
    "    print(\"Classifier: {}\".format(classifier))\n",
    "    results, _ = run(dataset_name, class_of_interest, classifier, index_param, CV_index)\n",
    "    print(\"balanced accuracy on test-set: {:.2f}\".format(results[\"test_metrics\"][\"balanced_accuracy\"].item()))\n",
    "    print(\"\\n\")"
   ],
   "metadata": {
    "collapsed": false,
    "pycharm": {
     "name": "#%%\n",
     "is_executing": true
    }
   }
  },
  {
   "cell_type": "markdown",
   "source": [
    "Training on the TCGA dataset, testing on the heldout, on the PCAWG, and on the met-500"
   ],
   "metadata": {
    "collapsed": false,
    "pycharm": {
     "name": "#%% md\n"
    }
   }
  },
  {
   "cell_type": "code",
   "execution_count": null,
   "outputs": [],
   "source": [
    "dataset_name = \"TCGA\"\n",
    "class_of_interest = \"Pancreas\"\n",
    "index_param = 0\n",
    "CV_index = 0\n",
    "#\n",
    "# preprocess_data(CV_index, dataset_name, class_of_interest)"
   ],
   "metadata": {
    "collapsed": false,
    "pycharm": {
     "name": "#%%\n",
     "is_executing": true
    }
   }
  },
  {
   "cell_type": "code",
   "execution_count": null,
   "outputs": [],
   "source": [
    "competitor_classifiers = [\"optirank\", \"logistic_regression_based_on_rankings\", \"logistic_regression\", \"random_forest\"]\n",
    "\n",
    "for classifier in competitor_classifiers:\n",
    "    print(\"Classifier: {}\".format(classifier))\n",
    "    results, classifier = run(dataset_name, class_of_interest, classifier, index_param, CV_index)\n",
    "    print(\"balanced accuracy on heldout-set: {:.2f}\".format(results[\"test_metrics\"][\"balanced_accuracy\"].item()))\n",
    "    print(\"balanced accuracy on PCAWG: {:.2f}\".format(results[\"PCAWG_metrics\"][\"balanced_accuracy\"].item()))\n",
    "    print(\"balanced accuracy on met-500: {:.2f}\".format(results[\"met-500_metrics\"][\"balanced_accuracy\"].item()))\n",
    "    print(\"\\n\")"
   ],
   "metadata": {
    "collapsed": false,
    "pycharm": {
     "name": "#%%\n",
     "is_executing": true
    }
   }
  }
 ],
 "metadata": {
  "kernelspec": {
   "display_name": "Python 3",
   "language": "python",
   "name": "python3"
  },
  "language_info": {
   "codemirror_mode": {
    "name": "ipython",
    "version": 2
   },
   "file_extension": ".py",
   "mimetype": "text/x-python",
   "name": "python",
   "nbconvert_exporter": "python",
   "pygments_lexer": "ipython2",
   "version": "2.7.6"
  }
 },
 "nbformat": 4,
 "nbformat_minor": 0
}